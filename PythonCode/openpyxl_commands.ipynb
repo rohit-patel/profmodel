{
 "cells": [
  {
   "cell_type": "code",
   "execution_count": 1,
   "metadata": {
    "collapsed": true
   },
   "outputs": [],
   "source": [
    "from openpyxl import load_workbook, Workbook, cell\n",
    "from openpyxl.styles import Color, PatternFill, Font, Border"
   ]
  },
  {
   "cell_type": "code",
   "execution_count": 26,
   "metadata": {
    "collapsed": false
   },
   "outputs": [],
   "source": [
    "wb=Workbook(write_only=True)\n",
    "ws=wb.create_sheet()\n",
    "ws.title='PnLData'\n",
    "fill1 = PatternFill(start_color='d2fedb', end_color='d2fedb', fill_type='solid')\n",
    "fill2 = PatternFill(start_color='fecdcd', end_color='fecdcd', fill_type='solid')\n",
    "\n",
    "\n",
    "#ws['A1'].fill=fill1\n",
    "#ws['A2'].fill=fill2\n",
    "#wb.save('openpy_experiments.xlsx')"
   ]
  },
  {
   "cell_type": "code",
   "execution_count": 27,
   "metadata": {
    "collapsed": false
   },
   "outputs": [],
   "source": [
    "tp=(1,2,3,4,5)\n",
    "row=[]\n",
    "for v in tp:\n",
    "    nv = cell.Cell(ws,column='A', row=10,value=v)\n",
    "    nv.fill=fill1\n",
    "    nv.font=Font(bold=True)\n",
    "    row.append(nv)\n",
    "    \n",
    "data = [1, 3, 4, 9, 10]\n",
    "\n",
    "\n",
    "#def styled_cells(data):\n",
    " #   for c in data:\n",
    "  #     if c == 1:\n",
    "   #         c = Cell(ws, column=\"A\", row=1, value=c)\n",
    "    #        c.font = Font(bold=True)\n",
    "     #  yield c\n",
    "\n",
    "ws.append(row)"
   ]
  },
  {
   "cell_type": "code",
   "execution_count": 28,
   "metadata": {
    "collapsed": false
   },
   "outputs": [],
   "source": [
    "wb.save('openpy_experiments.xlsx')"
   ]
  },
  {
   "cell_type": "code",
   "execution_count": 25,
   "metadata": {
    "collapsed": false
   },
   "outputs": [
    {
     "data": {
      "text/plain": [
       "True"
      ]
     },
     "execution_count": 25,
     "metadata": {},
     "output_type": "execute_result"
    }
   ],
   "source": [
    "a='Net Revenue'\n",
    "\n",
    "(('Net Sales' in a) or ('Net Revenue' in a) or ('Net Rev' in a))"
   ]
  },
  {
   "cell_type": "code",
   "execution_count": 8,
   "metadata": {
    "collapsed": false
   },
   "outputs": [
    {
     "data": {
      "text/plain": [
       "<Worksheet \"PnLData\">"
      ]
     },
     "execution_count": 8,
     "metadata": {},
     "output_type": "execute_result"
    }
   ],
   "source": [
    "ws"
   ]
  },
  {
   "cell_type": "code",
   "execution_count": null,
   "metadata": {
    "collapsed": true
   },
   "outputs": [],
   "source": []
  }
 ],
 "metadata": {
  "anaconda-cloud": {},
  "kernelspec": {
   "display_name": "Python 3",
   "language": "python",
   "name": "python3"
  },
  "language_info": {
   "codemirror_mode": {
    "name": "ipython",
    "version": 3
   },
   "file_extension": ".py",
   "mimetype": "text/x-python",
   "name": "python",
   "nbconvert_exporter": "python",
   "pygments_lexer": "ipython3",
   "version": "3.4.3"
  }
 },
 "nbformat": 4,
 "nbformat_minor": 1
}
