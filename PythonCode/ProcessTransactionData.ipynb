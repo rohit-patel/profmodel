{
 "cells": [
  {
   "cell_type": "code",
   "execution_count": 2,
   "metadata": {
    "collapsed": false
   },
   "outputs": [],
   "source": [
    "from openpyxl import load_workbook, Workbook, cell\n",
    "import pandas as pd, numpy as np\n",
    "from FileProcessingFunctions import ifHeaderReturnIndex, isRowValid\n",
    "from django.shortcuts import render\n",
    "from django.contrib.auth.decorators import login_required\n",
    "from django.http import HttpResponse\n",
    "from prof.forms import FileSpaceForm\n",
    "from prof.models import FileSpace, RunSpace, TransactionData\n",
    "from django.http import HttpResponseRedirect\n",
    "from django.core.urlresolvers import reverse\n",
    "from guardian.shortcuts import get_objects_for_user, assign_perm, get_perms\n",
    "from django.contrib.auth.models import User\n",
    "from guardian.decorators import permission_required_or_403\n",
    "from django.db import transaction\n",
    "\n",
    "\n",
    "\n",
    "desiredColumns=('Order Number', 'Order Date', 'Business Unit', 'Customer Number', 'Customer Name', 'Product Number', 'Quantity',\n",
    "                'List Price', 'Total Price', 'Discount', 'Invoice Amount')\n",
    "\n",
    "lastColumnName = 'All Months'\n",
    "transactionSheetName = 'TransactionData'\n",
    "\n",
    "def processTransactionsFile(inputFile, sheetName, outputFile, desiredColumns):\n",
    "    wb=load_workbook(inputFile, read_only=True, data_only=True)\n",
    "    ws=wb.get_sheet_by_name(sheetName)\n",
    "    output_wb=Workbook()\n",
    "    output_ws=output_wb.active\n",
    "    output_ws.title=sheetName\n",
    "    revenueSwitch=True\n",
    "    for row in ws.rows:\n",
    "        if ifHeaderReturnIndex(row,desiredColumns):\n",
    "            selectedIndex=ifHeaderReturnIndex(row, desiredColumns)\n",
    "            outputColumnNames=[row[i].value for i in selectedIndex]\n",
    "            output_ws.append(outputColumnNames)\n",
    "            break\n",
    "    for row in ws.rows:\n",
    "        if ifHeaderReturnIndex(row,desiredColumns):\n",
    "            pass\n",
    "        elif isRowValid(row,selectedIndex):\n",
    "            newrow=[row[i].value for i in selectedIndex]\n",
    "            output_ws.append(newrow)\n",
    "    output_wb.save(outputFile)\n",
    "    return(outputFile)\n",
    "\n",
    "def ProcessTransactionData(fileObject, run, sheetName=transactionSheetName,keyFileObject=None):\n",
    "    if not(keyFileObject): keyFileObject = fileObject\n",
    "    wb=load_workbook(fileObject.TheActualFile, read_only=True, data_only=True)\n",
    "    ws=wb.get_sheet_by_name(sheetName)\n",
    "    selectedIndex=None\n",
    "    for row in ws.rows:\n",
    "        if selectedIndex:\n",
    "            if isRowValid(row,selectedIndex):\n",
    "                newrow=[row[i].value for i in selectedIndex]\n",
    "                dictionary=dict(zip(outputColumnNames,newrow))\n",
    "                dictionary['UniqueRunID']=run\n",
    "                dictionary['SourceFileObject']=keyFileObject\n",
    "                TransactionData(**dictionary).save()\n",
    "        else:\n",
    "            if ifHeaderReturnIndex(row,desiredColumns):\n",
    "                selectedIndex=ifHeaderReturnIndex(row, desiredColumns)\n",
    "                outputColumnNames=[row[i].value.replace(\" \", \"\") for i in selectedIndex]\n",
    "    \n",
    "    \n",
    "def createKeyTemplate(transactionfile):\n",
    "    Tr = pd.read_excel(transactionfile)\n",
    "    Tr['Month']=Tr['Date'].apply(lambda x: str(x.year)+'-'+ ('0'+str(x.month))[-2:])\n",
    "    KeyTemplate=Tr[['Business Unit','Product Number','Month', 'List Price']].groupby( ['Business Unit','Product Number','Month']).sum().round().unstack()\n",
    "    KeyTemplate.columns=KeyTemplate.columns.droplevel(0)\n",
    "    KeyTemplate.columns.name=None\n",
    "    KeyTemplate[KeyTemplate!=np.nan]=None\n",
    "    KeyTemplate=KeyTemplate.reset_index()\n",
    "    KeyTemplate[lastColumnName] = np.nan\n",
    "    return KeyTemplate\n",
    "    \n",
    "    \n",
    "    \n",
    "def createQuantityKey(transactionfile):\n",
    "    Tr = pd.read_excel(transactionfile)\n",
    "    Tr['Month']=Tr['Date'].apply(lambda x: str(x.year)+'-'+ ('0'+str(x.month))[-2:])\n",
    "    QKey=Tr[['Business Unit','Product Number','Month', 'Quantity']].groupby( ['Business Unit','Product Number','Month']).sum().round().unstack()\n",
    "    QKey.columns=QKey.columns.droplevel(0)\n",
    "    QKey.columns.name=None\n",
    "    #QKey[QKey!=np.nan]=None\n",
    "    #QKey['Trailing Twelve Months'] = np.nan\n",
    "    QKeyAgg=Tr[['Business Unit','Product Number', 'Quantity']].groupby( ['Business Unit','Product Number']).sum().round()\n",
    "    QKeyAgg.rename(columns={'Quantity': lastColumnName},inplace=True)\n",
    "    QKey=pd.concat([QKey,QKeyAgg],axis=1)\n",
    "    QKey=QKey.reset_index().fillna(0)\n",
    "    return QKey"
   ]
  },
  {
   "cell_type": "code",
   "execution_count": null,
   "metadata": {
    "collapsed": false
   },
   "outputs": [],
   "source": [
    "inputFile = 'SampleTransactionData.xlsx'\n",
    "sheetName = 'TransactionData'\n",
    "outputFile = 'TransactionD.xlsx'\n",
    "processTransactionsFile(inputFile, sheetName, outputFile, desiredColumns)"
   ]
  },
  {
   "cell_type": "code",
   "execution_count": null,
   "metadata": {
    "collapsed": false
   },
   "outputs": [],
   "source": [
    "Tr = pd.read_excel(outputFile)\n",
    "Tr.head()"
   ]
  },
  {
   "cell_type": "code",
   "execution_count": null,
   "metadata": {
    "collapsed": false
   },
   "outputs": [],
   "source": [
    "Key1=createKeyTemplate(outputFile)\n",
    "Qkey=createQuantityKey(outputFile)\n",
    "Key2=Tr[['Business Unit','Product Number', 'List Price']].groupby( ['Business Unit','Product Number']).sum().round()\n",
    "Key2=Key2.reset_index()\n",
    "Key1[lastColumnName]=Key2['List Price']\n",
    "for column in Key1.iloc[:,2:-1].columns:\n",
    "    Key1[column]=Key2['List Price']\n",
    "Key1.head()"
   ]
  },
  {
   "cell_type": "code",
   "execution_count": null,
   "metadata": {
    "collapsed": false
   },
   "outputs": [],
   "source": [
    "KeyProd=(Key1.set_index(['Business Unit', 'Product Number'])*Qkey.set_index(['Business Unit', 'Product Number']))\n",
    "KeyProd.head()"
   ]
  },
  {
   "cell_type": "code",
   "execution_count": null,
   "metadata": {
    "collapsed": false
   },
   "outputs": [],
   "source": [
    "normalizedpd=pd.concat([group/group.sum() for  _, group in KeyProd.groupby(level=0)])\n",
    "normalizedpd#.to_pickle('NormalizedKey')"
   ]
  },
  {
   "cell_type": "code",
   "execution_count": null,
   "metadata": {
    "collapsed": false
   },
   "outputs": [],
   "source": [
    "PnLGroupedData=pd.read_pickle('PnLGroupedData')"
   ]
  },
  {
   "cell_type": "code",
   "execution_count": 26,
   "metadata": {
    "collapsed": false
   },
   "outputs": [],
   "source": [
    "trfile='TrDataSnippet.xlsx'\n",
    "sheetName='TransactionData'\n",
    "run=RunSpace.objects.get(pk=1)\n",
    "TrFile=FileSpace.objects.get(FileName='SampleTransaction')\n"
   ]
  },
  {
   "cell_type": "code",
   "execution_count": 28,
   "metadata": {
    "collapsed": false
   },
   "outputs": [],
   "source": [
    "ProcessTransactionData(TrFile, run)"
   ]
  },
  {
   "cell_type": "code",
   "execution_count": 20,
   "metadata": {
    "collapsed": false
   },
   "outputs": [],
   "source": [
    "TrFile.save()\n",
    "#TrFile.delete(keep_parents=True)"
   ]
  },
  {
   "cell_type": "code",
   "execution_count": 30,
   "metadata": {
    "collapsed": false
   },
   "outputs": [
    {
     "data": {
      "text/plain": [
       "<FieldFile: ./SampleTransactionData.xlsx>"
      ]
     },
     "execution_count": 30,
     "metadata": {},
     "output_type": "execute_result"
    }
   ],
   "source": [
    "TrFile.TheActualFile"
   ]
  },
  {
   "cell_type": "code",
   "execution_count": 21,
   "metadata": {
    "collapsed": false
   },
   "outputs": [
    {
     "data": {
      "text/plain": [
       "<TransactionData: TransactionData object>"
      ]
     },
     "execution_count": 21,
     "metadata": {},
     "output_type": "execute_result"
    }
   ],
   "source": [
    "\n",
    "TransactionData(UniqueRunID=run)"
   ]
  },
  {
   "cell_type": "code",
   "execution_count": 11,
   "metadata": {
    "collapsed": false
   },
   "outputs": [
    {
     "data": {
      "text/plain": [
       "{'BusinessUnit': 'BU3',\n",
       " 'CustomerName': 'Kbz Inc',\n",
       " 'CustomerNumber': 'C-401',\n",
       " 'Discount': 0,\n",
       " 'InvoiceAmount': 8687.35,\n",
       " 'ListPrice': 1241.05,\n",
       " 'OrderDate': datetime.datetime(2016, 3, 18, 0, 0),\n",
       " 'OrderNumber': 'O-4067',\n",
       " 'ProductNumber': 'P-1007',\n",
       " 'Quantity': 7,\n",
       " 'SourceFileObject': <FileSpace: FileSpace object>,\n",
       " 'TotalPrice': 8687.35,\n",
       " 'UniqueRunID': <RunSpace: RunSpace object>}"
      ]
     },
     "execution_count": 11,
     "metadata": {},
     "output_type": "execute_result"
    }
   ],
   "source": [
    "dictionary['UniqueRunID']=run\n",
    "dictionary['SourceFileObject']=TrFile\n",
    "dictionary"
   ]
  },
  {
   "cell_type": "code",
   "execution_count": 9,
   "metadata": {
    "collapsed": false
   },
   "outputs": [
    {
     "data": {
      "text/plain": [
       "['id',\n",
       " 'UniqueRunID',\n",
       " 'SourceFileObject',\n",
       " 'OrderNumber',\n",
       " 'OrderDate',\n",
       " 'BusinessUnit',\n",
       " 'CustomerNumber',\n",
       " 'CustomerName',\n",
       " 'ProductNumber',\n",
       " 'Quantity',\n",
       " 'ListPrice',\n",
       " 'TotalPrice',\n",
       " 'Discount',\n",
       " 'InvoiceAmount']"
      ]
     },
     "execution_count": 9,
     "metadata": {},
     "output_type": "execute_result"
    }
   ],
   "source": [
    "[f.name for f in TransactionData._meta.get_fields()]"
   ]
  },
  {
   "cell_type": "code",
   "execution_count": 13,
   "metadata": {
    "collapsed": false
   },
   "outputs": [],
   "source": [
    "TransactionData(**dictionary).save()"
   ]
  },
  {
   "cell_type": "code",
   "execution_count": 14,
   "metadata": {
    "collapsed": false
   },
   "outputs": [
    {
     "ename": "NameError",
     "evalue": "name 'selectedindex' is not defined",
     "output_type": "error",
     "traceback": [
      "\u001b[0;31m---------------------------------------------------------------------------\u001b[0m",
      "\u001b[0;31mNameError\u001b[0m                                 Traceback (most recent call last)",
      "\u001b[0;32m<ipython-input-14-f027843fbf94>\u001b[0m in \u001b[0;36m<module>\u001b[0;34m()\u001b[0m\n\u001b[0;32m----> 1\u001b[0;31m \u001b[0mselectedindex\u001b[0m\u001b[0;34m\u001b[0m\u001b[0m\n\u001b[0m",
      "\u001b[0;31mNameError\u001b[0m: name 'selectedindex' is not defined"
     ]
    }
   ],
   "source": [
    "selectedindex"
   ]
  },
  {
   "cell_type": "code",
   "execution_count": 24,
   "metadata": {
    "collapsed": false
   },
   "outputs": [
    {
     "name": "stdout",
     "output_type": "stream",
     "text": [
      "0\n",
      "1\n",
      "2\n",
      "3\n",
      "4\n",
      "5\n",
      "6\n",
      "7\n",
      "8\n",
      "9\n",
      "10\n"
     ]
    }
   ],
   "source": [
    "for i in range(len(selectedIndex)):\n",
    "    print(i)"
   ]
  },
  {
   "cell_type": "code",
   "execution_count": 17,
   "metadata": {
    "collapsed": false
   },
   "outputs": [
    {
     "data": {
      "text/plain": [
       "['O-4067',\n",
       " datetime.datetime(2016, 3, 18, 0, 0),\n",
       " 'BU3',\n",
       " 'C-401',\n",
       " 'Kbz Inc',\n",
       " 'P-1007',\n",
       " 7,\n",
       " 1241.05,\n",
       " 8687.35,\n",
       " 0,\n",
       " 8687.35]"
      ]
     },
     "execution_count": 17,
     "metadata": {},
     "output_type": "execute_result"
    }
   ],
   "source": [
    "newrow"
   ]
  },
  {
   "cell_type": "code",
   "execution_count": 30,
   "metadata": {
    "collapsed": false
   },
   "outputs": [
    {
     "ename": "SyntaxError",
     "evalue": "keyword can't be an expression (<ipython-input-30-7b3ead97a2a9>, line 12)",
     "output_type": "error",
     "traceback": [
      "\u001b[0;36m  File \u001b[0;32m\"<ipython-input-30-7b3ead97a2a9>\"\u001b[0;36m, line \u001b[0;32m12\u001b[0m\n\u001b[0;31m    TransactionData(outputColumnNames[i]=row[selectedIndex[i]].value)\u001b[0m\n\u001b[0m                   ^\u001b[0m\n\u001b[0;31mSyntaxError\u001b[0m\u001b[0;31m:\u001b[0m keyword can't be an expression\n"
     ]
    }
   ],
   "source": [
    "def method1():\n",
    "    newrow=[row[i].value for i in selectedIndex]\n",
    "    dictionary=dict(zip(outputColumnNames,newrow))\n",
    "    dictionary['UniqueRunID']=run\n",
    "    dictionary['SourceFileObject']=TrFile\n",
    "    return TransactionData(**dictionary)    \n",
    "\n",
    "def method2():\n",
    "    TransactionData(UniqueRunID=run)\n",
    "    TransactionData(SourceFileObject=TrFile)\n",
    "    for i in range(len(selectedIndex)):\n",
    "        TransactionData(outputColumnNames[i]=row[selectedIndex[i]].value)"
   ]
  },
  {
   "cell_type": "code",
   "execution_count": 34,
   "metadata": {
    "collapsed": false
   },
   "outputs": [],
   "source": [
    "newrow=[row[i].value for i in selectedIndex]\n"
   ]
  },
  {
   "cell_type": "code",
   "execution_count": 35,
   "metadata": {
    "collapsed": false
   },
   "outputs": [
    {
     "data": {
      "text/plain": [
       "[None, None, None, None, None, None, None, None, None, None, None]"
      ]
     },
     "execution_count": 35,
     "metadata": {},
     "output_type": "execute_result"
    }
   ],
   "source": [
    "newrow"
   ]
  },
  {
   "cell_type": "code",
   "execution_count": 3,
   "metadata": {
    "collapsed": true
   },
   "outputs": [],
   "source": [
    "from prof.models import FileSpace, RunSpace, TransactionData"
   ]
  },
  {
   "cell_type": "code",
   "execution_count": null,
   "metadata": {
    "collapsed": true
   },
   "outputs": [],
   "source": []
  }
 ],
 "metadata": {
  "kernelspec": {
   "display_name": "Django Shell-Plus",
   "language": "python",
   "name": "django_extensions"
  },
  "language_info": {
   "codemirror_mode": {
    "name": "ipython",
    "version": 3
   },
   "file_extension": ".py",
   "mimetype": "text/x-python",
   "name": "python",
   "nbconvert_exporter": "python",
   "pygments_lexer": "ipython3",
   "version": "3.4.3"
  }
 },
 "nbformat": 4,
 "nbformat_minor": 1
}
