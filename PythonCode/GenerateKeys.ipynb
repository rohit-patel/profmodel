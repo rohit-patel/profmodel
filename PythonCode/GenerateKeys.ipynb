{
 "cells": [
  {
   "cell_type": "code",
   "execution_count": 2,
   "metadata": {
    "collapsed": false
   },
   "outputs": [],
   "source": [
    "import os\n",
    "path='/home/ubuntu/workspace/t1/'\n",
    "pypath='/home/ubuntu/workspace/t1/PythonCode'\n",
    "os.chdir(path)\n",
    "import django\n",
    "django.setup()\n",
    "os.chdir(pypath)\n",
    "\n",
    "\n",
    "from openpyxl import load_workbook, Workbook, cell\n",
    "import pandas as pd, numpy as np\n",
    "from FileProcessingFunctions import ifHeaderReturnIndex, isRowValid\n",
    "from django.shortcuts import render\n",
    "from django.contrib.auth.decorators import login_required\n",
    "from django.http import HttpResponse\n",
    "from prof.forms import FileSpaceForm\n",
    "from prof.models import FileSpace, RunSpace, TransactionData, PnLData\n",
    "from django.http import HttpResponseRedirect\n",
    "from django.core.urlresolvers import reverse\n",
    "from guardian.shortcuts import get_objects_for_user, assign_perm, get_perms\n",
    "from django.contrib.auth.models import User\n",
    "from guardian.decorators import permission_required_or_403\n",
    "from django.db import transaction\n",
    "\n",
    "\n",
    "\n",
    "def createKeyTemplate(transactionfile):\n",
    "    Tr = pd.read_excel(transactionfile)\n",
    "    Tr['Month']=Tr['Date'].apply(lambda x: str(x.year)+'-'+ ('0'+str(x.month))[-2:])\n",
    "    KeyTemplate=Tr[['Business Unit','Product Number','Month', 'List Price']].groupby( ['Business Unit','Product Number','Month']).sum().round().unstack()\n",
    "    KeyTemplate.columns=KeyTemplate.columns.droplevel(0)\n",
    "    KeyTemplate.columns.name=None\n",
    "    KeyTemplate[KeyTemplate!=np.nan]=None\n",
    "    KeyTemplate=KeyTemplate.reset_index()\n",
    "    KeyTemplate[lastColumnName] = np.nan\n",
    "    return KeyTemplate\n",
    "    \n",
    "    \n",
    "    \n",
    "def createQuantityKey(transactionfile):\n",
    "    Tr = pd.read_excel(transactionfile)\n",
    "    Tr['Month']=Tr['Date'].apply(lambda x: str(x.year)+'-'+ ('0'+str(x.month))[-2:])\n",
    "    QKey=Tr[['Business Unit','Product Number','Month', 'Quantity']].groupby( ['Business Unit','Product Number','Month']).sum().round().unstack()\n",
    "    QKey.columns=QKey.columns.droplevel(0)\n",
    "    QKey.columns.name=None\n",
    "    #QKey[QKey!=np.nan]=None\n",
    "    #QKey['Trailing Twelve Months'] = np.nan\n",
    "    QKeyAgg=Tr[['Business Unit','Product Number', 'Quantity']].groupby( ['Business Unit','Product Number']).sum().round()\n",
    "    QKeyAgg.rename(columns={'Quantity': lastColumnName},inplace=True)\n",
    "    QKey=pd.concat([QKey,QKeyAgg],axis=1)\n",
    "    QKey=QKey.reset_index().fillna(0)\n",
    "    return QKey"
   ]
  },
  {
   "cell_type": "code",
   "execution_count": 10,
   "metadata": {
    "collapsed": true
   },
   "outputs": [],
   "source": [
    "run=RunSpace.objects.get(pk=1)\n"
   ]
  },
  {
   "cell_type": "code",
   "execution_count": null,
   "metadata": {
    "collapsed": true
   },
   "outputs": [],
   "source": []
  }
 ],
 "metadata": {
  "kernelspec": {
   "display_name": "Django Shell-Plus",
   "language": "python",
   "name": "django_extensions"
  },
  "language_info": {
   "codemirror_mode": {
    "name": "ipython",
    "version": 3
   },
   "file_extension": ".py",
   "mimetype": "text/x-python",
   "name": "python",
   "nbconvert_exporter": "python",
   "pygments_lexer": "ipython3",
   "version": "3.4.3"
  }
 },
 "nbformat": 4,
 "nbformat_minor": 1
}
