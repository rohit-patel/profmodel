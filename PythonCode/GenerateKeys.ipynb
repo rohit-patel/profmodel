{
 "cells": [
  {
   "cell_type": "code",
   "execution_count": 68,
   "metadata": {
    "collapsed": false
   },
   "outputs": [],
   "source": [
    "import os\n",
    "path='/home/ubuntu/workspace/t1/'\n",
    "pypath='/home/ubuntu/workspace/t1/PythonCode'\n",
    "os.chdir(path)\n",
    "import django\n",
    "django.setup()\n",
    "os.chdir(pypath)\n",
    "\n",
    "from openpyxl import load_workbook, Workbook, cell\n",
    "import pandas as pd, numpy as np\n",
    "from datetime import datetime\n",
    "from prof.ProcessingFunctions import ifHeaderReturnIndex, isRowValid, makeBold, fixWidth\n",
    "from django.shortcuts import render\n",
    "from django.contrib.auth.decorators import login_required\n",
    "from django.http import HttpResponse\n",
    "from prof.forms import FileSpaceForm\n",
    "from prof.models import FileSpace, RunSpace, TransactionData, PnLData\n",
    "from django.http import HttpResponseRedirect\n",
    "from django.core.urlresolvers import reverse\n",
    "from guardian.shortcuts import get_objects_for_user, assign_perm, get_perms\n",
    "from django.contrib.auth.models import User\n",
    "from guardian.decorators import permission_required_or_403\n",
    "from django.db import transaction\n",
    "from prof.settings import Key_settings_dict, Transactions_settings_dict\n",
    "\n",
    "\n",
    "def createKeyTemplate(transactionfile):\n",
    "    Tr = pd.read_excel(transactionfile)\n",
    "    Tr['Month']=Tr['Date'].apply(lambda x: str(x.year)+'-'+ ('0'+str(x.month))[-2:])\n",
    "    KeyTemplate=Tr[['Business Unit','Product Number','Month', 'List Price']].groupby( ['Business Unit','Product Number','Month']).sum().round().unstack()\n",
    "    KeyTemplate.columns=KeyTemplate.columns.droplevel(0)\n",
    "    KeyTemplate.columns.name=None\n",
    "    KeyTemplate[KeyTemplate!=np.nan]=None\n",
    "    KeyTemplate=KeyTemplate.reset_index()\n",
    "    KeyTemplate[lastColumnName] = np.nan\n",
    "    return KeyTemplate\n",
    "    \n",
    "def createQuantityKey_old(transactionfile):\n",
    "    Tr = pd.read_excel(transactionfile)\n",
    "    Tr['Month']=Tr['Transaction Date'].apply(lambda x: str(x.year)+'-'+ ('0'+str(x.month))[-2:])\n",
    "    QKey=Tr[['Business Unit','Product Number','Month', 'Quantity']].groupby( ['Business Unit','Product Number','Month']).sum().round().unstack()\n",
    "    QKey.columns=QKey.columns.droplevel(0)\n",
    "    QKey.columns.name=None\n",
    "    #QKey[QKey!=np.nan]=None\n",
    "    #QKey['Trailing Twelve Months'] = np.nan\n",
    "    QKeyAgg=Tr[['Business Unit','Product Number', 'Quantity']].groupby( ['Business Unit','Product Number']).sum().round()\n",
    "    QKeyAgg.rename(columns={'Quantity': Key_settings_dict['last_col_name']},inplace=True)\n",
    "    QKey=pd.concat([QKey,QKeyAgg],axis=1)\n",
    "    QKey=QKey.reset_index().fillna(0)\n",
    "    return QKey\n",
    "\n",
    "def createQuantityKey(run, Transactions_settings_dict= Transactions_settings_dict, Key_settings_dict=Key_settings_dict):\n",
    "    wb=Workbook()\n",
    "    wb.remove_sheet(wb.active)\n",
    "    ws = wb.create_sheet('Quantity')\n",
    "    Tr=pd.DataFrame.from_records(TransactionData.objects.filter(run=run).values())\n",
    "    Tr['Month'] = Tr['TransactionDate'].apply(lambda x: datetime.strftime(x,'%b-%Y'))\n",
    "    key_mont_column_names_sorted = sorted(set(Tr['Month']), key=lambda day: datetime.strptime(day, \"%b-%Y\"))\n",
    "    QKey=Tr[['BusinessUnit','ProductNumber','Month', 'Quantity']].groupby( ['BusinessUnit','ProductNumber','Month']).sum().round().unstack()\n",
    "    QKey.columns=QKey.columns.droplevel(0)\n",
    "    QKey.columns.name=None\n",
    "    #QKey[QKey!=np.nan]=None\n",
    "    #QKey['Trailing Twelve Months'] = np.nan\n",
    "    QKeyAgg=Tr[['BusinessUnit','ProductNumber', 'Quantity']].groupby( ['BusinessUnit','ProductNumber']).sum().round()\n",
    "    QKeyAgg.rename(columns={'Quantity': Key_settings_dict['last_col_name']},inplace=True)\n",
    "    QKey=pd.concat([QKey,QKeyAgg],axis=1)\n",
    "    QKey=QKey.reset_index().fillna(0)\n",
    "    QKey = QKey[['BusinessUnit','ProductNumber']+key_mont_column_names_sorted+[Key_settings_dict['last_col_name']]]\n",
    "    row=[]\n",
    "    for v in QKey.columns:\n",
    "        newcell = cell.Cell(ws,column='A', row=1,value=v)\n",
    "        newcell.font=Font(bold=True)\n",
    "        row.append(newcell)\n",
    "    ws.append(row)\n",
    "    for index, row in QKey.iterrows():\n",
    "        ws.append(list(row))\n",
    "    row = ws.row_dimensions[1]\n",
    "    row.font = Font(bold=True)\n",
    "    fixWidth(ws)\n",
    "    return(wb)"
   ]
  },
  {
   "cell_type": "code",
   "execution_count": 69,
   "metadata": {
    "collapsed": false
   },
   "outputs": [],
   "source": [
    "run=RunSpace.objects.get(pk=1)\n",
    "transactionfile = 'SampleTransactionData.xlsx'"
   ]
  },
  {
   "cell_type": "code",
   "execution_count": 72,
   "metadata": {
    "collapsed": false
   },
   "outputs": [],
   "source": [
    "test='test.xlsx'\n",
    "createQuantityKey(run).save(test)"
   ]
  }
 ],
 "metadata": {
  "kernelspec": {
   "display_name": "Django Shell-Plus",
   "language": "python",
   "name": "django_extensions"
  },
  "language_info": {
   "codemirror_mode": {
    "name": "ipython",
    "version": 3
   },
   "file_extension": ".py",
   "mimetype": "text/x-python",
   "name": "python",
   "nbconvert_exporter": "python",
   "pygments_lexer": "ipython3",
   "version": "3.4.3"
  }
 },
 "nbformat": 4,
 "nbformat_minor": 1
}
